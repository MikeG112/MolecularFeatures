{
 "cells": [
  {
   "cell_type": "code",
   "execution_count": null,
   "metadata": {},
   "outputs": [],
   "source": [
    "import pandas as pd\n",
    "import numpy as np\n",
    "import scipy.special\n",
    "import math\n",
    "import gc\n",
    "import copy\n",
    "from sklearn.model_selection import KFold, train_test_split\n",
    "from sklearn.metrics import mean_absolute_error\n",
    "import matplotlib.pyplot as plt\n",
    "from lightgbm import LGBMRegressor\n",
    "import os"
   ]
  },
  {
   "cell_type": "code",
   "execution_count": null,
   "metadata": {},
   "outputs": [],
   "source": [
    "#Import Features from  FeatureFunctions.py\n",
    "import FeatureFunctions as FF"
   ]
  },
  {
   "cell_type": "code",
   "execution_count": null,
   "metadata": {},
   "outputs": [],
   "source": [
    "## Assemble total dataset with features from original data set\n",
    "def build_couple_dataframe(some_csv, structures_csv, coupling_type, n_atoms=10):\n",
    "    base, structures = FF.build_type_dataframes(some_csv, structures_csv, coupling_type)\n",
    "    base = FF.add_coordinates(base, structures, 0)\n",
    "    base = FF.add_coordinates(base, structures, 1)\n",
    "\n",
    "    base = base.drop(['atom_0', 'atom_1'], axis=1)\n",
    "    atoms = base.drop('id', axis=1).copy()\n",
    "    if 'scalar_coupling_constant' in some_csv:\n",
    "        atoms = atoms.drop(['scalar_coupling_constant'], axis=1)\n",
    "\n",
    "    FF.add_center(atoms)\n",
    "    atoms = atoms.drop(['x_0', 'y_0', 'z_0', 'x_1', 'y_1', 'z_1'], axis=1)\n",
    "\n",
    "    atoms = FF.merge_all_atoms(atoms, structures)\n",
    "\n",
    "    FF.add_distance_to_center(atoms)\n",
    "    Center_Coordinates = atoms[['x_c', 'y_c', 'z_c']]\n",
    "    atoms = atoms.drop(['x_c', 'y_c', 'z_c', 'atom_index'], axis=1)\n",
    "    atoms.sort_values(['molecule_index', 'atom_index_0', 'atom_index_1', 'd_c'], inplace=True)\n",
    "    atom_groups = atoms.groupby(['molecule_index', 'atom_index_0', 'atom_index_1'])\n",
    "    atoms['num'] = atom_groups.cumcount() + 2\n",
    "    atoms = atoms.drop(['d_c'], axis=1)\n",
    "    atoms = atoms[atoms['num'] < n_atoms]\n",
    "\n",
    "    atoms = atoms.set_index(['molecule_index', 'atom_index_0', 'atom_index_1', 'num']).unstack()\n",
    "    atoms.columns = [f'{col[0]}_{col[1]}' for col in atoms.columns]\n",
    "    atoms = atoms.reset_index()\n",
    "\n",
    "    # downcast back to int8\n",
    "    for col in atoms.columns:\n",
    "        if col.startswith('atom_'):\n",
    "            atoms[col] = atoms[col].fillna(0).astype('int8')\n",
    "\n",
    "    atoms['molecule_index'] = atoms['molecule_index'].astype('int32')\n",
    "\n",
    "    full = FF.add_atoms(base, atoms)\n",
    "    FF.add_distances(full)\n",
    "\n",
    "    full.sort_values('id', inplace=True)\n",
    "    full[['x_c', 'y_c', 'z_c']] = Center_Coordinates\n",
    "    FF.add_distances_to_center(full, n_atoms)\n",
    "    FF.add_local_Euler_chars_0(full, 2, n_atoms)\n",
    "    FF.add_local_Euler_chars_1(full, 2, n_atoms)\n",
    "    FF.add_2_edge_paths(full, 4, n_atoms)\n",
    "    return full"
   ]
  }
 ],
 "metadata": {
  "kernelspec": {
   "display_name": "Python [conda env:DataScienceEnvironment] *",
   "language": "python",
   "name": "conda-env-DataScienceEnvironment-py"
  },
  "language_info": {
   "codemirror_mode": {
    "name": "ipython",
    "version": 3
   },
   "file_extension": ".py",
   "mimetype": "text/x-python",
   "name": "python",
   "nbconvert_exporter": "python",
   "pygments_lexer": "ipython3",
   "version": "3.7.4"
  }
 },
 "nbformat": 4,
 "nbformat_minor": 2
}
